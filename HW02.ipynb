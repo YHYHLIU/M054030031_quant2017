{
 "cells": [
  {
   "cell_type": "markdown",
   "metadata": {},
   "source": [
    "# HW02"
   ]
  },
  {
   "cell_type": "code",
   "execution_count": 16,
   "metadata": {},
   "outputs": [
    {
     "name": "stdout",
     "output_type": "stream",
     "text": [
      "Hello world!\n",
      "This is Alice's greeting.\n",
      "This is Bob's greeting.\n",
      "5 + 10 =  15\n",
      "foo\n",
      "==========\n",
      "Current working directory is D:\\doris\\Documents\\Python\\file\n",
      "I like to eat apples\n",
      "I like to eat oranges\n",
      "I like to eat cats\n",
      "count to ten:\n",
      "0\n",
      "1\n",
      "2\n",
      "3\n",
      "4\n",
      "5\n",
      "6\n",
      "7\n",
      "8\n",
      "9\n"
     ]
    }
   ],
   "source": [
    "import os                                           # 載入模組\n",
    "def main():\n",
    "    print (\"Hello world!\")\n",
    "    print (\"This is Alice's greeting.\")             # 用 \"使其不會與 '混淆\n",
    "    print ('This is Bob\\'s greeting.')              # 利用\\跳脫字元區別不同'\n",
    "\n",
    "    foo(5,10)\n",
    "    \n",
    "    print (\"=\" * 10)                  \n",
    "    print (\"Current working directory is \" + os.getcwd())  # os.getcwd()為顯示目前執行時的工作路徑\n",
    "    \n",
    "    counter = 0\n",
    "    counter += 1\n",
    "    \n",
    "    food = [\"apples\",\"oranges\",\"cats\"]       #[]為liste格式\n",
    "    for i in food:\n",
    "        print (\"I like to eat \" + i)\n",
    "    \n",
    "    print (\"count to ten:\")\n",
    "    for i in range(10):                      # range(10)從0開始至9                           \n",
    "        print(i)\n",
    "    \n",
    "\n",
    "def foo(param1, secondParam):                # 定義 foo funtion； foo(param1 ,secondParam) = foo(5,10)\n",
    "    res = param1 + secondParam               # res = 5 + 10 = 15\n",
    "    \n",
    "    print(\"%s + %s =  %s\" % (param1, secondParam, res))   # %s使用str()將字串輸出，%分隔，代表以格式化操作\n",
    "    \n",
    "    if res <50:\n",
    "        print(\"foo\")\n",
    "        \n",
    "    elif (res >= 50) and ((param1 == 42) or (secondParam == 24)):\n",
    "        print(\"bar\")\n",
    "    \n",
    "    else:\n",
    "        print (\"moo\")\n",
    "        \n",
    "    return res\n",
    "\n",
    "if __name__=='__main__':\n",
    "    main()"
   ]
  }
 ],
 "metadata": {
  "kernelspec": {
   "display_name": "Python 3",
   "language": "python",
   "name": "python3"
  },
  "language_info": {
   "codemirror_mode": {
    "name": "ipython",
    "version": 3
   },
   "file_extension": ".py",
   "mimetype": "text/x-python",
   "name": "python",
   "nbconvert_exporter": "python",
   "pygments_lexer": "ipython3",
   "version": "3.6.3"
  }
 },
 "nbformat": 4,
 "nbformat_minor": 2
}
